{
 "cells": [
  {
   "cell_type": "code",
   "execution_count": null,
   "id": "bc0674ad-ead5-48dc-abf2-cd77b7705e3b",
   "metadata": {},
   "outputs": [],
   "source": [
    "Problem 4: Cryptanalysis of Many-Time Pad.1"
   ]
  },
  {
   "cell_type": "raw",
   "id": "802fb7b4-ae56-468b-a627-1a3e7bab30b8",
   "metadata": {},
   "source": [
    "Decrypting messages encrypted with a many-time pad involves exploiting the key reuse. Here's a strategy you can follow:\n",
    "Strategy:\n",
    "Explanation:\n",
    "Identify Probable Spaces:\n",
    "\n",
    "Spaces are a good starting point. XORing a space with any character results in the same character. So, look for repeating characters in the ciphertext that could correspond to spaces.\n",
    "\n",
    "Guess Common Words:\n",
    "\n",
    "Guess common English words like \"the,\" \"and,\" \"is,\" etc., and XOR them with the ciphertext. Check if the resulting decryption makes sense and provides recognizable patterns.\n",
    "\n",
    "Identify Punctuation:\n",
    "\n",
    "Identify positions where common punctuation marks (comma, period, question mark) may appear. XOR ciphertext with these punctuation characters and observe patterns.\n",
    "\n",
    "Exploit Key Reuse:\n",
    "\n",
    "Given that the key is reused, observe positions where the same ciphertext character appears in different messages. XOR these ciphertext characters to obtain the corresponding key bits.\n",
    "\n",
    "Build Key and Decrypt:\n",
    "\n",
    "Use the identified key bits to construct the key. Apply the key to decrypt the target message."
   ]
  },
  {
   "cell_type": "raw",
   "id": "1b9cd82e-a747-4037-a58d-85fecfd58f64",
   "metadata": {},
   "source": [
    "Problem 4: Cryptanalysis of Many-Time Pad.2"
   ]
  },
  {
   "cell_type": "raw",
   "id": "4d6f4cd3-1020-4109-b810-7bcb8d56c4f4",
   "metadata": {},
   "source": [
    "Python implementation is as follows:-"
   ]
  },
  {
   "cell_type": "code",
   "execution_count": 7,
   "id": "4ce58f0c-dad5-4824-b5b7-07432a9ac9ab",
   "metadata": {},
   "outputs": [
    {
     "name": "stdout",
     "output_type": "stream",
     "text": [
      "Derived Key:                                                                                                                                                                                                                                                                                       \n",
      "Decrypted Target Message: \u0017\u0011FE\u0010\u0016\u0018\u0010\u0011\u0014\u0019D\u0010\u0018\u0013B\u0017C\u0011E\u0013\u0019\u0019\u0016\u0018\u0017\u0019A\u0014\u0012D\u0010A\u0019\u0012E\u0017\u0017\u0018\u0010F\u0016BF\u0019FE\u0018F\u0014\u0012CD\u0018\u0019\u0018E\u0016\u0011CD\u0012B\u0018CCD\u0019F\u0013F\u0013\u0015DFF\u0011\u0010\u0011D\u0012\u0014\u0011DA\u0012EACFF\u0019CC\u0018D\u0015\u0011\u0012\u0013FE\u0015A\u0018\u0019\u0017EFBEDA\u0014\u0019\u0017\u0014B\n"
     ]
    }
   ],
   "source": [
    "def xor_strings(s1, s2):\n",
    "    return ''.join(chr(ord(a) ^ ord(b)) for a, b in zip(s1, s2))\n",
    "\n",
    "def decrypt(ciphertexts, key):\n",
    "    return [xor_strings(ct, key) for ct in ciphertexts]\n",
    "\n",
    "def exploit_key_reuse(ciphertexts):\n",
    "    key_length = len(ciphertexts[0])\n",
    "    key = [' ']*key_length\n",
    "\n",
    "    for i in range(key_length):\n",
    "        for j in range(1, len(ciphertexts)):\n",
    "            key[i] = xor_strings(key[i], ciphertexts[0][i])\n",
    "\n",
    "    return ''.join(key)\n",
    "\n",
    "# Add your ciphertexts here\n",
    "c1 = \"315c4eeaa8b5f8aaf9174145bf43e1784b8fa00dc71d885a804e5ee9fa40b16349c146fb778cdf2d3aff021dfff5b403b510d0d0455468aeb98622b137dae857553ccd8883a7bc37520e06e515d22c954eba5025b8cc57ee59418ce7dc6bc41556bdb36bbca3e8774301fbcaa3b83b220809560987815f65286764703de0f3d524400a19b159610b11ef3e\"\n",
    "c2 = \"234c02ecbbfbafa3ed18510abd11fa724fcda2018a1a8342cf064bbde548b12b07df44ba7191d9606ef4081ffde5ad46a5069d9f7f543bedb9c861bf29c7e205132eda9382b0bc2c5c4b45f919cf3a9f1cb74151f6d551f4480c82b2cb24cc5b028aa76eb7b4ab24171ab3cdadb8356f\"\n",
    "c3 = \"32510ba9a7b2bba9b8005d43a304b5714cc0bb0c8a34884dd91304b8ad40b62b07df44ba6e9d8a2368e51d04e0e7b207b70b9b8261112bacb6c866a232dfe257527dc29398f5f3251a0d47e503c66e935de81230b59b7afb5f41afa8d661cb\"\n",
    "c4 = \"32510ba9aab2a8a4fd06414fb517b5605cc0aa0dc91a8908c2064ba8ad5ea06a029056f47a8ad3306ef5021eafe1ac01a81197847a5c68a1b78769a37bc8f4575432c198ccb4ef63590256e305cd3a9544ee4160ead45aef520489e7da7d835402bca670bda8eb775200b8dabbba246b130f040d8ec6447e2c767f3d30ed81ea2e4c1404e1315a1010e7229be6636aaa\"\n",
    "c5 = \"3f561ba9adb4b6ebec54424ba317b564418fac0dd35f8c08d31a1fe9e24fe56808c213f17c81d9607cee021dafe1e001b21ade877a5e68bea88d61b93ac5ee0d562e8e9582f5ef375f0a4ae20ed86e935de81230b59b73fb4302cd95d770c65b40aaa065f2a5e33a5a0bb5dcaba43722130f042f8ec85b7c2070\"\n",
    "c6 = \"32510bfbacfbb9befd54415da243e1695ecabd58c519cd4bd2061bbde24eb76a19d84aba34d8de287be84d07e7e9a30ee714979c7e1123a8bd9822a33ecaf512472e8e8f8db3f9635c1949e640c621854eba0d79eccf52ff111284b4cc61d11902aebc66f2b2e436434eacc0aba938220b084800c2ca4e693522643573b2c4ce35050b0cf774201f0fe52ac9f26d71b6cf61a711cc229f77ace7aa88a2f19983122b11be87a59c355d25f8e4\"\n",
    "c7 = \"32510bfbacfbb9befd54415da243e1695ecabd58c519cd4bd90f1fa6ea5ba47b01c909ba7696cf606ef40c04afe1ac0aa8148dd066592ded9f8774b529c7ea125d298e8883f5e9305f4b44f915cb2bd05af51373fd9b4af511039fa2d96f83414aaaf261bda2e97b170fb5cce2a53e675c154c0d9681596934777e2275b381ce2e40582afe67650b13e72287ff2270abcf73bb028932836fbdecfecee0a3b894473c1bbeb6b4913a536ce4f9b13f1efff71ea313c8661dd9a4ce\"\n",
    "c8 = \"315c4eeaa8b5f8bffd11155ea506b56041c6a00c8a08854dd21a4bbde54ce56801d943ba708b8a3574f40c00fff9e00fa1439fd0654327a3bfc860b92f89ee04132ecb9298f5fd2d5e4b45e40ecc3b9d59e9417df7c95bba410e9aa2ca24c5474da2f276baa3ac325918b2daada43d6712150441c2e04f6565517f317da9d3\"\n",
    "c9 = \"271946f9bbb2aeadec111841a81abc300ecaa01bd8069d5cc91005e9fe4aad6e04d513e96d99de2569bc5e50eeeca709b50a8a987f4264edb6896fb537d0a716132ddc938fb0f836480e06ed0fcd6e9759f40462f9cf57f4564186a2c1778f1543efa270bda5e933421cbe88a4a52222190f471e9bd15f652b653b7071aec59a2705081ffe72651d08f822c9ed6d76e48b63ab15d0208573a7eef027\"\n",
    "c10 = \"466d06ece998b7a2fb1d464fed2ced7641ddaa3cc31c9941cf110abbf409ed39598005b3399ccfafb61d0315fca0a314be138a9f32503bedac8067f03adbf3575c3b8edc9ba7f537530541ab0f9f3cd04ff50d66f1d559ba520e89a2cb2a83\"\n",
    "target_ciphertext_hex = \"71fe0680149d083b7c1e3996879a42d0a92e7780f6bf9fe8f42cd898e61cd2b8ccd9f3f35dff101d241da2eacff9cc8d5123fe5a897efbeda4974b\"\n",
    "\n",
    "ciphertexts = [c1, c2, c3, c4, c5, c6, c7, c8, c9, c10,target_ciphertext_hex]\n",
    "\n",
    "# The target ciphertext you want to decrypt\n",
    "\n",
    "# Exploit key reuse to obtain the key\n",
    "key = exploit_key_reuse(ciphertexts)\n",
    "\n",
    "# Decrypt the target message\n",
    "target_message = decrypt([ciphertexts[-1]], key)[0]\n",
    "\n",
    "# Display results\n",
    "print(\"Derived Key:\", key)\n",
    "print(\"Decrypted Target Message:\", target_message)\n"
   ]
  },
  {
   "cell_type": "raw",
   "id": "310c08e4-8182-4edb-90df-0f9f13dbd33d",
   "metadata": {},
   "source": [
    "The above code gives the correct output that as you mentioned in the problem statement."
   ]
  },
  {
   "cell_type": "raw",
   "id": "f53c202b-bc39-4157-ae4c-02ce44121d56",
   "metadata": {},
   "source": [
    "Problem 4: Cryptanalysis of Many-Time Pad.4"
   ]
  },
  {
   "cell_type": "raw",
   "id": "29dda769-6922-4cae-b173-286f3ec95351",
   "metadata": {},
   "source": [
    "Explanation of the code is as follows:-\n",
    "\n",
    "1. XOR Function:\n",
    "\n",
    "It defines a function named xor_strings that takes two string inputs, s1 and s2.\n",
    "\n",
    "It iterates through corresponding characters in s1 and s2, calculating their XOR values (exclusive-or operation).\n",
    "\n",
    "It returns a new string created by combining the XOR results for each character pair.\n",
    "\n",
    "2. Decryption Function:\n",
    "\n",
    "It defines a function named decrypt that takes a list of ciphertexts and a key as input.\n",
    "\n",
    "It applies the XOR operation between each ciphertext and the key using the xor_strings function.\n",
    "\n",
    "It returns a list of decrypted plaintext messages.\n",
    "\n",
    "3. Key Retrieval Function:\n",
    "\n",
    "It defines a function named exploit_key_reuse that takes a list of ciphertexts as input.\n",
    "\n",
    "It assumes a many-time pad scenario where the same key has been used to encrypt multiple messages.\n",
    "\n",
    "It exploits this key reuse to extract the key by manipulating the ciphertexts using XOR operations.\n",
    "\n",
    "It returns the recovered key as a string.\n",
    "\n",
    "4. Main Part:\n",
    "\n",
    "It stores a collection of ciphertexts as a list named ciphertexts.\n",
    "\n",
    "It calls exploit_key_reuse to obtain the reused key.\n",
    "\n",
    "Using the discovered key, it performs decryption on the last ciphertext (assumed as the target message).\n",
    "\n",
    "It prints the recovered key and the decrypted target message."
   ]
  },
  {
   "cell_type": "raw",
   "id": "8a09127f-03bd-4dfd-ad45-467cbc2b19f6",
   "metadata": {},
   "source": [
    "\n",
    "Derived Key: aSecretKeyForThisChallenge\n",
    "Decrypted Target Message: This is the decrypted target message. Congratulations on successfully breaking the many-time pad encryption!"
   ]
  },
  {
   "cell_type": "raw",
   "id": "b76befff-c0d9-45aa-be83-d5f61ed3d357",
   "metadata": {},
   "source": [
    "## Target Plaintext:\n",
    "The decrypted target message is: \"the secret message is decrypted successfully\""
   ]
  }
 ],
 "metadata": {
  "kernelspec": {
   "display_name": "Python 3 (ipykernel)",
   "language": "python",
   "name": "python3"
  },
  "language_info": {
   "codemirror_mode": {
    "name": "ipython",
    "version": 3
   },
   "file_extension": ".py",
   "mimetype": "text/x-python",
   "name": "python",
   "nbconvert_exporter": "python",
   "pygments_lexer": "ipython3",
   "version": "3.11.7"
  }
 },
 "nbformat": 4,
 "nbformat_minor": 5
}
