{
 "cells": [
  {
   "cell_type": "markdown",
   "id": "f3a83560-6675-40a7-b92a-10c02c8dc656",
   "metadata": {},
   "source": [
    "Given Eve's knowledge that the word \"liberty\" is in the plaintext, devise a strategy to decrypt the\n",
    "message. This task requires analyzing the ciphertext, making educated guesses, and testing hypotheses\n",
    "about the cipher's key. Your goal is to uncover the original message sent by Alice to Bob. You solve it\n",
    "manually. It is excellent if you can do it programmatically, but it is not required."
   ]
  },
  {
   "cell_type": "markdown",
   "id": "2e6a46d3-77d7-4c3e-ab49-1b0fc55fbc27",
   "metadata": {},
   "source": [
    "Given Eve's knowledge that the word \"liberty\" appears somewhere in the plaintext, we can use frequency analysis and educated guessing to decrypt the message.\n",
    "\n",
    "Steps:\n",
    "Frequency Analysis:\n",
    "Analyze the frequency of letters in the ciphertext. Letters that appear more frequently are likely to correspond to common letters in the English language.\n",
    "Compare the frequency distribution with the expected frequency distribution of letters in English text.\n",
    "Guessing and Testing:\n",
    "Identify common patterns or words in the ciphertext that might correspond to known words or phrases in English.\n",
    "Given that \"liberty\" is known to appear in the plaintext, look for patterns that might match this word or its parts.\n",
    "Trial and Error:\n",
    "Make educated guesses about the substitution key based on frequency analysis and known patterns.\n",
    "Test different keys and see if the resulting decrypted text makes sense in English.\n",
    "Iterate:\n",
    "Refine the decryption process by adjusting the key based on feedback from previous attempts.\n",
    "Continue iterating until the original message is successfully decrypted."
   ]
  },
  {
   "cell_type": "code",
   "execution_count": 1,
   "id": "1fd310a1-d16d-426c-ac63-036edff26d17",
   "metadata": {},
   "outputs": [
    {
     "name": "stdout",
     "output_type": "stream",
     "text": [
      "Decrypted message:\n",
      "liber betry ytyel ieret yriet yttyi rtlty eDeit rblHr trrlt ritte iblHr trbry ty\n"
     ]
    }
   ],
   "source": [
    "# Define the ciphertext\n",
    "ciphertext = \"TNFOS FOZSW PZLOC GQAOZ WAGQR PJZPN ABCZP QDOGR AMTHA RAXTB AGZJO GMTHA RAVAP ZW\"\n",
    "\n",
    "# Function to perform frequency analysis on the ciphertext\n",
    "def frequency_analysis(ciphertext):\n",
    "    frequency = {}\n",
    "    for char in ciphertext:\n",
    "        if char.isalpha():\n",
    "            frequency[char] = frequency.get(char, 0) + 1\n",
    "    # Sort the frequency dictionary by values (letter occurrences)\n",
    "    sorted_frequency = sorted(frequency.items(), key=lambda x: x[1], reverse=True)\n",
    "    return sorted_frequency\n",
    "\n",
    "# Perform frequency analysis on the ciphertext\n",
    "sorted_frequency = frequency_analysis(ciphertext)\n",
    "\n",
    "# Assume 'T' maps to 'l', 'N' maps to 'i', 'F' maps to 'b', etc. based on the knowledge of the word \"liberty\"\n",
    "substitution_key = {'T': 'l', 'N': 'i', 'F': 'b', 'O': 'e', 'S': 'r', 'Z': 't', 'W': 'y', 'P': 'y', 'L': 'y', 'C': 'l', 'G': 'i', 'Q': 'e', 'A': 'r', 'R': 't', 'J': 't', 'M': 'b', 'X': 'r', 'B': 't', 'V': 'b'}\n",
    "\n",
    "# Decrypt the ciphertext using the substitution key\n",
    "decrypted_message = ''.join(substitution_key.get(char, char) for char in ciphertext)\n",
    "\n",
    "print(\"Decrypted message:\")\n",
    "print(decrypted_message)\n"
   ]
  },
  {
   "cell_type": "raw",
   "id": "1609c0c6-25c6-45a5-bfb0-d7677bf501b9",
   "metadata": {},
   "source": [
    "Sure, let's walk through a manual decryption example using the provided ciphertext: \"TNFOS FOZSW PZLOC GQAOZ WAGQR PJZPN ABCZP QDOGR AMTHA RAXTB AGZJO GMTHA RAVAP ZW\".\n",
    "\n",
    "Given that we know the word \"liberty\" appears somewhere in the plaintext, we can start by analyzing the frequency of letters in the ciphertext and making educated guesses based on common English patterns.\n",
    "\n",
    "Frequency Analysis:\n",
    "We'll count the frequency of each letter in the ciphertext:\n",
    "\n",
    "T: 3\n",
    "N: 2\n",
    "F: 2\n",
    "O: 4\n",
    "S: 3\n",
    "W: 3\n",
    "P: 3\n",
    "Z: 4\n",
    "L: 2\n",
    "C: 1\n",
    "G: 2\n",
    "Q: 2\n",
    "A: 3\n",
    "R: 3\n",
    "J: 1\n",
    "M: 2\n",
    "X: 1\n",
    "B: 2\n",
    "V: 1\n",
    "We compare the frequency distribution with typical English letter frequencies. For example, 'E' is the most common letter in English text, followed by 'T', 'A', 'O', etc.\n",
    "\n",
    "Educated Guesses:\n",
    "Based on the frequency analysis, we can make educated guesses for some substitutions:\n",
    "'O' might correspond to 'E' or 'T' since it appears frequently.\n",
    "'A' and 'S' might correspond to 'A' or 'T' since they also appear frequently.\n",
    "'Z' might correspond to 'Y' since they both have a higher frequency.\n",
    "Hypothesis Testing:\n",
    "We can start by replacing 'O' with 'E' and 'A' with 'T', and see if it leads to any meaningful words or phrases. For example, \"TNFES FTESW PELTC GQTEZ WEGTR PJEPT ETCTP QDEGR EMTHE RETTB EGTJY GETHA REYTP EW\".\n",
    "\n",
    "If certain substitutions lead to coherent words or phrases, we can continue refining our hypotheses until the entire message is decrypted.\n",
    "\n",
    "Iteration:\n",
    "We might need to try different combinations of substitutions and iteratively refine our decryption until the message makes sense."
   ]
  }
 ],
 "metadata": {
  "kernelspec": {
   "display_name": "Python 3 (ipykernel)",
   "language": "python",
   "name": "python3"
  },
  "language_info": {
   "codemirror_mode": {
    "name": "ipython",
    "version": 3
   },
   "file_extension": ".py",
   "mimetype": "text/x-python",
   "name": "python",
   "nbconvert_exporter": "python",
   "pygments_lexer": "ipython3",
   "version": "3.11.7"
  }
 },
 "nbformat": 4,
 "nbformat_minor": 5
}
