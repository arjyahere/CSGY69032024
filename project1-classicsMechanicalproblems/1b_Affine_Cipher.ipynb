{
 "cells": [
  {
   "cell_type": "markdown",
   "id": "b2918932-0a3f-451d-948b-ef5c0d4d9f73",
   "metadata": {},
   "source": [
    "Imagine you're a cryptographer tasked with sending a secure message using the Affine Cipher. Your\n",
    "message consists only of capital letters, and you've decided to use the encryption formula c=5p+9 mod26.\n",
    "Your challenge is to encrypt a given plaintext, ensuring that spaces and other non-letter characters are\n",
    "omitted, as the domain of your cipher is limited to 26 capital letters. Write a python program to encrypt\n",
    "the phrase “CRYPTOISFUN”. Develop a general solution that can be applied to any plaintext using the\n",
    "specified Affine Cipher encryption formula. Explain your process clearly."
   ]
  },
  {
   "cell_type": "markdown",
   "id": "459e213b-46ee-43bd-93c0-ed01aa1ecfd7",
   "metadata": {},
   "source": [
    "Follow these steps:\n",
    "Define the encryption formula\n",
    "p is the plaintext letter.\n",
    "Convert the plaintext to uppercase and remove any non-letter characters.\n",
    "Iterate through each letter in the plaintext.\n",
    "Apply the encryption formula to each letter to get the corresponding ciphertext letter.\n",
    "Append the ciphertext letters together to form the encrypted message."
   ]
  },
  {
   "cell_type": "code",
   "execution_count": 1,
   "id": "31e124de-0f85-4b03-b7ca-4cac623b14ee",
   "metadata": {},
   "outputs": [
    {
     "name": "stdout",
     "output_type": "stream",
     "text": [
      "Encrypted message: TQZGABXVIFW\n"
     ]
    }
   ],
   "source": [
    "def affine_encrypt(plaintext):\n",
    "    \"\"\"\n",
    "    Encrypts the given plaintext using the Affine Cipher encryption formula.\n",
    "\n",
    "    Parameters:\n",
    "    plaintext (str): The plaintext to be encrypted.\n",
    "\n",
    "    Returns:\n",
    "    str: The encrypted ciphertext.\n",
    "    \"\"\"\n",
    "    ciphertext = \"\"\n",
    "    for char in plaintext:\n",
    "        if char.isalpha():  # Check if the character is a letter\n",
    "            # Apply encryption formula: c = (5 * p + 9) mod 26\n",
    "            p = ord(char.upper()) - ord('A')  # Convert letter to index (0-25)\n",
    "            c = (5 * p + 9) % 26\n",
    "            ciphertext += chr(c + ord('A'))  # Convert index back to letter\n",
    "    return ciphertext\n",
    "\n",
    "# Test the function with the given plaintext \"CRYPTOISFUN\"\n",
    "plaintext = \"CRYPTOISFUN\"\n",
    "encrypted_message = affine_encrypt(plaintext)\n",
    "print(\"Encrypted message:\", encrypted_message)\n"
   ]
  },
  {
   "cell_type": "markdown",
   "id": "123c89cd-50c2-402b-aa9f-665c04b14a4b",
   "metadata": {},
   "source": [
    "Function Definition:\n",
    "\n",
    "def affine_encrypt(plaintext): defines a function named affine_encrypt that takes one parameter, plaintext, which is the message to be encrypted.\n",
    "\n",
    "Encryption Process:\n",
    "\n",
    "ciphertext = \"\": Initializes an empty string to store the encrypted message.\n",
    "for char in plaintext:: Iterates through each character in the plaintext message.\n",
    "if char.isalpha():: Checks if the character is a letter.\n",
    "p = ord(char.upper()) - ord('A'): Converts the letter to its index (0-25) in the alphabet.\n",
    "c = (5 * p + 9) % 26: Applies the encryption formula: \n",
    "c=(5×p+9)mod26 to get the index of the encrypted letter.\n",
    "ciphertext += chr(c + ord('A')): Converts the index back to a letter and appends it to the encrypted message.\n",
    "\n",
    "Return Value:\n",
    "\n",
    "return ciphertext: Returns the encrypted message.\n",
    "Testing the Function:\n",
    "\n",
    "plaintext = \"CRYPTOISFUN\": Assigns the plaintext message.\n",
    "encrypted_message = affine_encrypt(plaintext): Calls the affine_encrypt function to encrypt the plaintext message.\n",
    "print(\"Encrypted message:\", encrypted_message): Prints the encrypted message to the console.\n"
   ]
  }
 ],
 "metadata": {
  "kernelspec": {
   "display_name": "Python 3 (ipykernel)",
   "language": "python",
   "name": "python3"
  },
  "language_info": {
   "codemirror_mode": {
    "name": "ipython",
    "version": 3
   },
   "file_extension": ".py",
   "mimetype": "text/x-python",
   "name": "python",
   "nbconvert_exporter": "python",
   "pygments_lexer": "ipython3",
   "version": "3.11.7"
  }
 },
 "nbformat": 4,
 "nbformat_minor": 5
}
