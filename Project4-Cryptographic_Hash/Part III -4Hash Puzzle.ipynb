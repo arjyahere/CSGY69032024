{
 "cells": [
  {
   "cell_type": "code",
   "execution_count": null,
   "id": "e856aaac-095a-4dab-a64f-f0ae6ebd066e",
   "metadata": {},
   "outputs": [],
   "source": [
    "4.\tHash Puzzle\n",
    "•\tUsing the chosen hashing algorithm (4 bits output), solve hash puzzles by finding hashes with a leading 1 zero bit, and then 2 zero bits.\n",
    "•\tBriefly discuss the workload involved in solving a puzzle requiring a 20-bit zero prefix for the SHA256."
   ]
  },
  {
   "cell_type": "code",
   "execution_count": null,
   "id": "f516301c-8bb3-4cb6-8666-2b544feb62fe",
   "metadata": {},
   "outputs": [],
   "source": [
    "Concept and Logic:\n",
    "Hash Puzzle: A hash puzzle is a cryptographic challenge where participants must find a hash value with specific properties, such as leading zero bits.\n",
    "\n",
    "Leading Zero Bits: Finding hashes with leading zero bits involves generating random inputs and computing their hashes until a hash with the desired properties is found.\n",
    "\n",
    "Workload: The workload involved in solving a hash puzzle depends on the hash space size and the number of leading zero bits required. As the number of required leading zero bits increases, the workload exponentially increases due to the exponentially larger hash space."
   ]
  },
  {
   "cell_type": "code",
   "execution_count": null,
   "id": "05b7f941-4de2-44c2-a9c1-e80d0c1d23f1",
   "metadata": {},
   "outputs": [],
   "source": [
    "Detailed Solution:\n",
    "\n",
    "Define the Custom Hash Function:"
   ]
  },
  {
   "cell_type": "code",
   "execution_count": 2,
   "id": "60d01b01-3e9e-4671-9d34-311c4000a071",
   "metadata": {},
   "outputs": [],
   "source": [
    "import hashlib\n",
    "\n",
    "def custom_hash(text):\n",
    "    # Hash the text using SHA256\n",
    "    hash_object = hashlib.sha256(text.encode())\n",
    "    hash_hex = hash_object.hexdigest()\n",
    "    # Convert the first hex character to binary and take the first 4 bits\n",
    "    first_char_binary = bin(int(hash_hex[0], 16))[2:].zfill(4)\n",
    "    return first_char_binary[:4]\n"
   ]
  },
  {
   "cell_type": "code",
   "execution_count": null,
   "id": "2ac1f72f-d3f9-4793-b8da-536aa933e495",
   "metadata": {},
   "outputs": [],
   "source": [
    "Solve Hash Puzzles:"
   ]
  },
  {
   "cell_type": "code",
   "execution_count": null,
   "id": "1e00af9e-0362-4d9b-bf32-84f0f96e87cc",
   "metadata": {},
   "outputs": [],
   "source": [
    "# Let's try to find a hash with 1 leading zero bit\n",
    "found = False\n",
    "nonce = 0\n",
    "while not found:\n",
    "    # We'll use the nonce itself as the changing data for simplicity\n",
    "    hash_value = custom_hash(str(nonce))\n",
    "    if hash_value.startswith('0'):  # Checking for one leading zero bit\n",
    "        print(f\"Nonce: {nonce}, Hash with 1 leading zero bit: {hash_value}\")\n",
    "        found = True\n",
    "    nonce += 1\n"
   ]
  },
  {
   "cell_type": "code",
   "execution_count": null,
   "id": "a3e640df-1230-436b-a8cc-ee26ff7514db",
   "metadata": {},
   "outputs": [],
   "source": [
    "Workload Analysis:\n",
    "To find a hash with a 20-bit zero prefix in SHA256, you need to try, on average, 2^20 hashes. This is a significant amount of work, as the number of possibilities is large.\n",
    "For the 4-bit custom hash function in our example, it's much easier to find leading zero bits because the space is tiny. However, as you increase the number of leading zeros required, the number of tries needed increases exponentially.\n"
   ]
  },
  {
   "cell_type": "code",
   "execution_count": null,
   "id": "9d3deade-32fe-4140-9368-f6f86eb5d30b",
   "metadata": {},
   "outputs": [],
   "source": [
    "Python demonstration that shows this process in action:"
   ]
  },
  {
   "cell_type": "code",
   "execution_count": null,
   "id": "1e5d09ce-0095-4f7d-8582-ee938234f664",
   "metadata": {},
   "outputs": [],
   "source": [
    "import hashlib\n",
    "\n",
    "# Custom hash function that simulates a 4-bit output hash\n",
    "def custom_hash(nonce):\n",
    "    # Hash the nonce using SHA256 and return the first 4 bits of the hash\n",
    "    return bin(int(hashlib.sha256(str(nonce).encode()).hexdigest(), 16))[2:].zfill(256)[:4]\n",
    "\n",
    "# Initialize nonce\n",
    "nonce = 0\n",
    "# Loop to find a hash with a leading zero bit\n",
    "while True:\n",
    "    # Get the custom hash for the current nonce\n",
    "    hash_value = custom_hash(nonce)\n",
    "    # Check if the hash has a leading zero\n",
    "    if hash_value.startswith('0'):  # Looking for one leading zero bit\n",
    "        print(f\"Found a hash with one leading zero bit: {hash_value}, Nonce: {nonce}\")\n",
    "        break\n",
    "    nonce += 1\n"
   ]
  },
  {
   "cell_type": "code",
   "execution_count": null,
   "id": "2d6bcfe2-76f1-42e6-b5ca-8ed7f2a9338a",
   "metadata": {},
   "outputs": [],
   "source": [
    "this script would give you the nonce that results in a hash with one leading zero bit for our custom 4-bit hash function. For SHA256 with a 20-bit prefix"
   ]
  },
  {
   "cell_type": "code",
   "execution_count": null,
   "id": "3de816e6-82c1-47a7-be41-9b3313b1368d",
   "metadata": {},
   "outputs": [],
   "source": [
    "For example, if the nonce 42 produces a SHA256 hash with a hexadecimal string starting with '0', which corresponds to '0000' in binary, then the script would output something like:"
   ]
  },
  {
   "cell_type": "code",
   "execution_count": null,
   "id": "1dacf0a3-5c85-46d6-9c43-703aebdf2df4",
   "metadata": {},
   "outputs": [],
   "source": [
    "Nonce: 42\n",
    "Hash with 1 leading zero bit: 0000\n",
    "\n",
    "This indicates that when the nonce 42 is hashed, the resulting hash in binary starts with at least one leading zero bit"
   ]
  },
  {
   "cell_type": "code",
   "execution_count": null,
   "id": "4782ba0d-af22-4245-a8b4-67d211a2f41f",
   "metadata": {},
   "outputs": [],
   "source": [
    "import hashlib\n",
    "\n",
    "# Define a custom hash function that simulates a 4-bit output hash\n",
    "def custom_hash(nonce):\n",
    "    # Hash the nonce using SHA256 and return the first 4 bits of the hash\n",
    "    full_hash = hashlib.sha256(str(nonce).encode()).hexdigest()\n",
    "    # Take the first hexadecimal digit from the hash and convert it to binary\n",
    "    first_hex_digit = full_hash[0]\n",
    "    binary_representation = bin(int(first_hex_digit, 16))[2:].zfill(4)\n",
    "    # Return only the first 4 bits of the binary representation\n",
    "    return binary_representation\n",
    "\n",
    "# Try to find a hash with 1 leading zero bit\n",
    "nonce = 0\n",
    "found_hash = False\n",
    "while not found_hash:\n",
    "    # Get the custom hash for the current nonce\n",
    "    hash_value = custom_hash(nonce)\n",
    "    # Check if the hash has 1 leading zero\n",
    "    if hash_value.startswith('0'):  # We are looking for one leading zero bit\n",
    "        found_hash = True\n",
    "    else:\n",
    "        nonce += 1  # Increment the nonce and try again\n",
    "\n",
    "# Output the results\n",
    "nonce, hash_value\n"
   ]
  }
 ],
 "metadata": {
  "kernelspec": {
   "display_name": "Python 3 (ipykernel)",
   "language": "python",
   "name": "python3"
  },
  "language_info": {
   "codemirror_mode": {
    "name": "ipython",
    "version": 3
   },
   "file_extension": ".py",
   "mimetype": "text/x-python",
   "name": "python",
   "nbconvert_exporter": "python",
   "pygments_lexer": "ipython3",
   "version": "3.11.7"
  }
 },
 "nbformat": 4,
 "nbformat_minor": 5
}
