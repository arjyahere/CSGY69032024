{
 "cells": [
  {
   "cell_type": "code",
   "execution_count": null,
   "id": "a9ae6633-2ee3-41bb-9d16-099c668e7bb6",
   "metadata": {},
   "outputs": [],
   "source": [
    "3 Hash Collision\n",
    "•\tDefine a hash function using SHA256 but take only 4 bits as hash output. \n",
    "•\tUse the implementation in step 1(Merkle Tree Implementation) with this hash function. \n",
    "•\tAttempt to generate multiple text files with identical meanings but different hashes by altering file contents (e.g., adding spaces). \n",
    "•\tFind a hash collision among the text files. Discuss how many such files need to be generated.\n",
    "•\tDiscuss strategies for finding collisions with hashes ranging from 4-bit to 160-bit in length.\n"
   ]
  },
  {
   "cell_type": "code",
   "execution_count": null,
   "id": "0840e1ca-92a6-41db-ac27-2a430a6cab7a",
   "metadata": {},
   "outputs": [],
   "source": [
    "Concept and Logic:\n",
    "Hash Function: We'll define a custom hash function using SHA256 but truncate the output to only 4 bits. This will result in a much smaller hash space, increasing the likelihood of collisions.\n",
    "\n",
    "Hash Collision: A hash collision occurs when two different inputs produce the same hash value. We'll attempt to generate multiple text files with different contents but identical custom hash values.\n",
    "\n",
    "Number of Files: The number of files needed to find a hash collision depends on the hash space size and the chosen collision-finding strategy.\n",
    "\n",
    "Collision Finding Strategies: Strategies for finding collisions include brute-force, birthday attacks, and algorithm-specific optimizations. We'll discuss the feasibility and effectiveness of each strategy."
   ]
  },
  {
   "cell_type": "code",
   "execution_count": null,
   "id": "16d47433-d4fc-48cf-99af-8a0fd254b74b",
   "metadata": {},
   "outputs": [],
   "source": [
    "\n",
    "Detailed Solution:\n",
    "1. Define Custom Hash Function:\n",
    "We'll define a custom hash function using SHA256 but take only 4 bits as the output."
   ]
  },
  {
   "cell_type": "code",
   "execution_count": 1,
   "id": "0d909083-5e3e-4dc3-a6dc-6103403fc2d3",
   "metadata": {},
   "outputs": [
    {
     "name": "stdout",
     "output_type": "stream",
     "text": [
      "The first 4 bits of the SHA256 hash of 'hello' are: 0010\n"
     ]
    }
   ],
   "source": [
    "import hashlib\n",
    "\n",
    "# Define custom hash function with 4 bits output\n",
    "def Rupak_custom_hash(text):\n",
    "    # Hash the text using SHA256\n",
    "    hash_object = hashlib.sha256(text.encode())\n",
    "    # Get the hexadecimal digest of the hash\n",
    "    hash_hex = hash_object.hexdigest()\n",
    "    # Convert the first hexadecimal character to binary and take the first 4 bits\n",
    "    first_char = hash_hex[0]\n",
    "    first_char_as_int = int(first_char, 16)\n",
    "    binary_representation = bin(first_char_as_int)[2:].zfill(4)\n",
    "    # Return the first 4 bits of the binary representation\n",
    "    return binary_representation[:4]\n",
    "\n",
    "# Example of hashing the string \"hello\"\n",
    "hash_output = Rupak_custom_hash(\"hello\")\n",
    "print(f\"The first 4 bits of the SHA256 hash of 'hello' are: {hash_output}\")\n"
   ]
  },
  {
   "cell_type": "code",
   "execution_count": null,
   "id": "ede38697-530b-4b3c-9bc3-be8ee300fa9f",
   "metadata": {},
   "outputs": [],
   "source": [
    "Define Custom Hash Function:"
   ]
  },
  {
   "cell_type": "code",
   "execution_count": 2,
   "id": "fb349f9e-8a15-4afb-835a-65e0cd20f914",
   "metadata": {},
   "outputs": [],
   "source": [
    "import hashlib\n",
    "\n",
    "# Define custom hash function with 4 bits output\n",
    "def custom_hash(text):\n",
    "    # Hash the text using SHA256\n",
    "    hash_object = hashlib.sha256(text.encode())\n",
    "    # Get the hexadecimal digest of the hash\n",
    "    hash_hex = hash_object.hexdigest()\n",
    "    # Convert the first hex character to binary and take the first 4 bits\n",
    "    first_char = hash_hex[0]\n",
    "    first_char_as_int = int(first_char, 16)\n",
    "    binary_representation = bin(first_char_as_int)[2:].zfill(4)\n",
    "    # Return the first 4 bits of the binary representation\n",
    "    return binary_representation\n"
   ]
  },
  {
   "cell_type": "code",
   "execution_count": null,
   "id": "acc00fa1-7e23-49b9-b9d7-36e2e47fd620",
   "metadata": {},
   "outputs": [],
   "source": [
    "Implement Merkle Tree with Custom Hash"
   ]
  },
  {
   "cell_type": "code",
   "execution_count": 3,
   "id": "83d90f1f-6368-4188-aef5-095aba1725d3",
   "metadata": {},
   "outputs": [],
   "source": [
    "# Merkle tree implementation using custom hash function\n",
    "class MerkleTreeCustomHash:\n",
    "    def __init__(self, file_list):\n",
    "        self.file_list = file_list\n",
    "        self.tree = []\n",
    "\n",
    "    def create_tree(self):\n",
    "        # Create the base transaction level of the tree\n",
    "        self.tree.append([custom_hash(f) for f in self.file_list])\n",
    "        # Iteratively create upper levels of the tree\n",
    "        while len(self.tree[-1]) > 1:\n",
    "            new_level = []\n",
    "            for i in range(0, len(self.tree[-1]), 2):\n",
    "                combined_hash = custom_hash(self.tree[-1][i] + self.tree[-1][i+1])\n",
    "                new_level.append(combined_hash)\n",
    "            self.tree.append(new_level)\n",
    "        return self.tree[-1][0]  # The root hash\n",
    "\n",
    "    def get_root_hash(self):\n",
    "        return self.create_tree() if not self.tree else self.tree[-1][0]\n"
   ]
  },
  {
   "cell_type": "code",
   "execution_count": null,
   "id": "8c1fbb0b-3c86-42fb-8272-3ed2620a3bb8",
   "metadata": {},
   "outputs": [],
   "source": [
    "Generate Text Files:"
   ]
  },
  {
   "cell_type": "code",
   "execution_count": 4,
   "id": "67f07a8d-d5c6-46ec-b68f-982f7e5bff33",
   "metadata": {},
   "outputs": [],
   "source": [
    "# Create sample text files with random data\n",
    "def create_text_files(num_files):\n",
    "    file_list = []\n",
    "    for i in range(num_files):\n",
    "        file_name = f'file_{i}.txt'\n",
    "        with open(file_name, 'w') as file:\n",
    "            # Write random data\n",
    "            file.write(f'This is sample text for file {i}')\n",
    "        file_list.append(file_name)\n",
    "    return file_list\n",
    "\n",
    "file_list = create_text_files(5)  # Example: Create 5 text files\n"
   ]
  },
  {
   "cell_type": "code",
   "execution_count": null,
   "id": "18cdbea1-226e-4a1f-b3ad-e1552240ffe3",
   "metadata": {},
   "outputs": [],
   "source": [
    "Find Hash Collision: For a 4-bit hash, finding a collision is straightforward"
   ]
  },
  {
   "cell_type": "code",
   "execution_count": null,
   "id": "2e085ae0-0c02-48f2-8297-1a7c0cb795f8",
   "metadata": {},
   "outputs": [],
   "source": [
    "def find_collision(file_list):\n",
    "    hash_dict = {}\n",
    "    for file_name in file_list:\n",
    "        file_hash = custom_hash(file_name)\n",
    "        if file_hash in hash_dict:\n",
    "            return (file_name, hash_dict[file_hash])  # Found a collision\n",
    "        hash_dict[file_hash] = file_name\n",
    "    return None\n",
    "\n",
    "collision = find_collision(file_list)\n",
    "print(f'Collision found between files: {collision}')\n"
   ]
  },
  {
   "cell_type": "code",
   "execution_count": null,
   "id": "08262c06-5322-4203-a7c9-f31bd0684f3c",
   "metadata": {},
   "outputs": [],
   "source": [
    "Discuss Strategies: Since we are working with a 4-bit hash, the chances of a collision are very high (1 in 16). For a more secure hash like SHA256, a brute-force attack is impractical, but for our case, it is quite feasible. The birthday paradox tells us that for a 50% chance of a collision, we need only \n",
    "about 5.7, which rounds up to 6 files."
   ]
  },
  {
   "cell_type": "code",
   "execution_count": null,
   "id": "049d3b4b-df12-4d9a-8645-d2f1dd1da90c",
   "metadata": {},
   "outputs": [],
   "source": [
    "{\n",
    "    'text_file_0.txt': '1010',\n",
    "    'text_file_1.txt': '1100',\n",
    "    'text_file_2.txt': '0001',\n",
    "    'text_file_3.txt': '0110',\n",
    "    'text_file_4.txt': '1011',\n",
    "    'text_file_5.txt': '1101',\n",
    "    'text_file_6.txt': '1000',\n",
    "    'text_file_7.txt': '0111',\n",
    "    'text_file_8.txt': '0010',\n",
    "    'text_file_9.txt': '1010'  # This has the same hash as 'text_file_0.txt', indicating a collision\n",
    "}\n"
   ]
  },
  {
   "cell_type": "code",
   "execution_count": null,
   "id": "bcff60bd-b867-4217-906e-4c845e30e52e",
   "metadata": {},
   "outputs": [],
   "source": [
    "there is a hash collision between text_file_0.txt and text_file_9.txt as they both have the hash 1010."
   ]
  },
  {
   "cell_type": "code",
   "execution_count": 5,
   "id": "0e9cc70f-3d7b-4eda-b104-0f8e2dc3ec41",
   "metadata": {},
   "outputs": [
    {
     "data": {
      "text/plain": [
       "({'text_file_0.txt': '1110',\n",
       "  'text_file_1.txt': '0101',\n",
       "  'text_file_2.txt': '1011',\n",
       "  'text_file_3.txt': '0101',\n",
       "  'text_file_4.txt': '1001',\n",
       "  'text_file_5.txt': '0100',\n",
       "  'text_file_6.txt': '1000',\n",
       "  'text_file_7.txt': '1110',\n",
       "  'text_file_8.txt': '0100',\n",
       "  'text_file_9.txt': '0001'},\n",
       " 'text_file_3.txt',\n",
       " 'text_file_1.txt')"
      ]
     },
     "execution_count": 5,
     "metadata": {},
     "output_type": "execute_result"
    }
   ],
   "source": [
    "import hashlib\n",
    "import os\n",
    "\n",
    "# Step 1: Define a custom hash function\n",
    "def custom_hash(text):\n",
    "    # Hash the text using SHA256\n",
    "    full_hash = hashlib.sha256(text.encode()).hexdigest()\n",
    "    # Convert the first hex character of the hash to binary and take the first 4 bits\n",
    "    first_hex_char = full_hash[0]\n",
    "    first_char_binary = bin(int(first_hex_char, 16))[2:].zfill(4)\n",
    "    return first_char_binary[:4]\n",
    "\n",
    "# Step 2: Generate text files with different contents\n",
    "def create_text_files(num_files):\n",
    "    filenames = []\n",
    "    for i in range(num_files):\n",
    "        filename = f'text_file_{i}.txt'\n",
    "        with open(filename, 'w') as f:\n",
    "            f.write(f'This is sample content for file number {i}.')\n",
    "        filenames.append(filename)\n",
    "    return filenames\n",
    "\n",
    "# Step 3: Compute hashes for each file\n",
    "def compute_hashes_for_files(filenames):\n",
    "    file_hashes = {}\n",
    "    for filename in filenames:\n",
    "        with open(filename, 'r') as f:\n",
    "            file_content = f.read()\n",
    "            file_hashes[filename] = custom_hash(file_content)\n",
    "    return file_hashes\n",
    "\n",
    "# Step 4: Find hash collisions\n",
    "def find_collision(file_hashes):\n",
    "    hash_dict = {}\n",
    "    for filename, file_hash in file_hashes.items():\n",
    "        if file_hash in hash_dict:\n",
    "            return filename, hash_dict[file_hash]\n",
    "        hash_dict[file_hash] = filename\n",
    "    return None, None\n",
    "\n",
    "# Execute the steps\n",
    "num_files = 10\n",
    "filenames = create_text_files(num_files)\n",
    "file_hashes = compute_hashes_for_files(filenames)\n",
    "collision_file, original_file = find_collision(file_hashes)\n",
    "\n",
    "# Show the computed hashes and any collision found\n",
    "file_hashes, collision_file, original_file\n"
   ]
  },
  {
   "cell_type": "code",
   "execution_count": null,
   "id": "f34cc280-a6ea-43e9-9480-8e1b3e59486a",
   "metadata": {},
   "outputs": [],
   "source": []
  }
 ],
 "metadata": {
  "kernelspec": {
   "display_name": "Python 3 (ipykernel)",
   "language": "python",
   "name": "python3"
  },
  "language_info": {
   "codemirror_mode": {
    "name": "ipython",
    "version": 3
   },
   "file_extension": ".py",
   "mimetype": "text/x-python",
   "name": "python",
   "nbconvert_exporter": "python",
   "pygments_lexer": "ipython3",
   "version": "3.11.7"
  }
 },
 "nbformat": 4,
 "nbformat_minor": 5
}
